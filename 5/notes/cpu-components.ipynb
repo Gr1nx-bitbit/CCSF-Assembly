{
 "cells": [
  {
   "cell_type": "markdown",
   "metadata": {},
   "source": [
    "The control unit (CU) is an IC meant for directing operations with the CPU via **control signals**. The datapath is the unit of the CPU components connected together via busses and wires e.g. the ALU + registers + CU + etc. all wired together makes the datapath. The CU commands the datapath regarding how and when to route data. The CU is instrumental in performing instruciton execution. The CU is responsible for decoding the OPCODE from an instruction and then telling the rest of the CPU what to do depending on the OPCODE. The CU also has to make sure things are synchronized so that you don't end up reading another instruction before the previous one is done executing, hence, the CU also controls the clock which dictates when a new cycle is started. The *Memory Fetch Cycle* is deonted by the FETCH, DECODE, EXECUTE, and Memory read/write. While all instructions need to be fetched, decoded, and executed, not all of them have to read from or write to memory as a part of their execution **(5.2)**. *Register Transfer Notation* (RTN) is a notation used for the idea that registers or other digital logic hardware have the ability to recieve input and then operate on that input. The possible places where data transfer can occur is in:\n",
    "- Memory\n",
    "- Processor Registers\n",
    "- I/O devices\n",
    "You can use RTN to talk about registers (?other components too?) and their operations. Letters and numbers denote the actual register like R1 (register 1) or R2 (register 2). Paraentheses can specify something about the register like how big it is [ R2(8-bit) ] or if you're only talking about a bit of it [ a 32bit register R1 but you only want to talk about bits 0-7 R1(0-7) ]. You can use an arrow [<-] to show a transfer of data. Fetch Execute Cycle in RTN **(5.4)**. Single Cycle Execution is when each instruction is is executed sequentially i.e. each Fecth Execute Cycle is done one after another. Multiply Cycle Execution is when you have multiple instructions executing per clock cycle or simultaneously. This technique when one phase is done and the previous is immediately reloading with new operations is called *pipelining*. Pipelining also allows the clock to fire more quickly since it will only be waiting for as along as the slowest instruction / operation (might be the write operation at the end of a Fetch Execute Cycle). Since the Fetch Execute Cycle (FEC) is made up of 5 stages, we need to identify 5 different parts of the CPU that can work in parallel as well as name the stages **(5.5)**.\n",
    "- IF: Instruction Fetch (Instruciton from RAM)\n",
    "- ID: Instruction Decode and register file read (Register read)\n",
    "- EX: Execution or address calculation (ALU / Computation)\n",
    "- MEM: Memory Read (Read from register or RAM)\n",
    "- WB: Write Back (Write to Register or RAM)\n",
    "While pipelining brings better performance, it also comes with its drawbacks known as hazards. *Structural hazards* are what happen when two different instructions try to use the same physical resource at the same time. *Data hazards* are when an instruction trys to access data that isn't ready (hasn't been written). *Control hazards* are what happens when the CPU attempts to make a decision about the flow of the program before the condition of a branching instruction is evaluated. \n",
    "- Data Hazard Types: Usually only with R-type instructions\n",
    "    - Read After Write: This happens when an instruction tries to read data from a place in memory before another instruction has written to it. This could happen when one instruction writes a sum to a register and the instruction immediately after tries to read from that register before the previous one is done. \n",
    "    - Write After Read: This is similar to the one above except reversed. This happens when an instruction tries to write to memory before the previous one is done reading from that place in memory. \n",
    "    - Write After Write: This is similar to the one above except an instrcution will write its data to a register or place in memory before a previous instruction has done so and basically just throwing that data into the void never to be seen agian. \n",
    "Dependencies are when instructions rely on the ones that came before. We can see how the data hazards can come into play here. A way to handle data hazards is by using NOPS (no operations) which are just empty instructions that fill up the pipelie making it wait. Add two NOPs to let the CPU do a full cycle and so that you won't have as many problems with data hazards. *Forwarding* is particularly useful with arithmetic instructions and passes the computation directly to the next instruction instead of writing its result to a register or place in memory. Look at forwarding example video! Structural hazards can really only be fixed with more hardware! For control hazards (branching) where the instruciton needs to write its data before another instruction reads it, there are a few solutions. Add 3 NOPs so that the instruciton finished completely OR move the comparison logic higher up in the cycle to level 2 so that you only have to wait for one cycle to finish OR figure out which instructions you can run after the branch that don't have dependencies on it – don't worry about this too much! "
   ]
  }
 ],
 "metadata": {
  "language_info": {
   "name": "python"
  }
 },
 "nbformat": 4,
 "nbformat_minor": 2
}
