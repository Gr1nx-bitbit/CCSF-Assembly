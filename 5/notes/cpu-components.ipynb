{
 "cells": [
  {
   "cell_type": "markdown",
   "metadata": {},
   "source": [
    "The control unit (CU) is an IC meant for directing operations with the CPU via **control signals**. The datapath is the unit of the CPU components connected together via busses and wires e.g. the ALU + registers + CU + etc. all wired together makes the datapath. The CU commands the datapath regarding how and when to route data. The CU is instrumental in performing instruciton execution. The CU is responsible for decoding the OPCODE from an instruction and then telling the rest of the CPU what to do depending on the OPCODE. The CU also has to make sure things are synchronized so that you don't end up reading another instruction before the previous one is done executing, hence, the CU also controls the clock which dictates when a new cycle is started. The *Memory Fetch Cycle* is deonted by the FETCH, DECODE, EXECUTE, and Memory read/write. While all instructions need to be fetched, decoded, and executed, not all of them have to read from or write to memory as a part of their execution **(5.2)**. *Register Transfer Notation* (RTN) is a notation used for the idea that registers or other digital logic hardware have the ability to recieve input and then operate on that input. "
   ]
  }
 ],
 "metadata": {
  "language_info": {
   "name": "python"
  }
 },
 "nbformat": 4,
 "nbformat_minor": 2
}
