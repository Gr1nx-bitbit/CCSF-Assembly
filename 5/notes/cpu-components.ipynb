{
 "cells": [
  {
   "cell_type": "markdown",
   "metadata": {},
   "source": [
    "The control unit (CU) is an IC meant for directing operations with the CPU via **control signals**. The datapath is the unit of the CPU components connected together via busses and wires e.g. the ALU + registers + CU + etc. all wired together makes the datapath. The CU commands the datapath regarding how and when to route data. The CU is instrumental in performing instruciton execution. The CU is responsible for decoding the OPCODE from an instruction and then telling the rest of the CPU what to do depending on the OPCODE. The CU also has to make sure things are synchronized so that you don't end up reading another instruction before the previous one is done executing, hence, the CU also controls the clock which dictates when a new cycle is started. The *Memory Fetch Cycle* is deonted by the FETCH, DECODE, EXECUTE, and Memory read/write. While all instructions need to be fetched, decoded, and executed, not all of them have to read from or write to memory as a part of their execution **(5.2)**. *Register Transfer Notation* (RTN) is a notation used for the idea that registers or other digital logic hardware have the ability to recieve input and then operate on that input. The possible places where data transfer can occur is in:\n",
    "- Memory\n",
    "- Processor Registers\n",
    "- I/O devices\n",
    "You can use RTN to talk about registers (?other components too?) and their operations. Letters and numbers denote the actual register like R1 (register 1) or R2 (register 2). Paraentheses can specify something about the register like how big it is [ R2(8-bit) ] or if you're only talking about a bit of it [ a 32bit register R1 but you only want to talk about bits 0-7 R1(0-7) ]. You can use an arrow [<-] to show a transfer of data. Fetch Execute Cycle in RTN **(5.4)**. Single Cycle Execution is when each instruction is is executed sequentially i.e. each Fecth Execute Cycle is done one after another. Multiply Cycle Execution is when you have multiple instructions executing per clock cycle or simultaneously. This technique when one phase is done and the previous is immediately reloading with new operations is called *pipelining*. Pipelining also allows the clock to fire more quickly since it will only be waiting for as along as the slowest instruction / operation (might be the write operation at the end of a Fetch Execute Cycle). Since the Fetch Execute Cycle (FEC) is made up of 5 stages, we need to identify 5 different parts of the CPU that can work in parallel as well as name the stages.\n",
    "- IF: Instruction Fetch **(5.5)**\n",
    "- ID: Instruction Decode and register file read\n",
    "- EX: Execution or address calculation\n",
    "- MEM: Memory Access\n",
    "- WB: Write Back\n"
   ]
  }
 ],
 "metadata": {
  "language_info": {
   "name": "python"
  }
 },
 "nbformat": 4,
 "nbformat_minor": 2
}
