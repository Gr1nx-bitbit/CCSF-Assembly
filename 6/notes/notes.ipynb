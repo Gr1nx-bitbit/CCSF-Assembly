{
 "cells": [
  {
   "cell_type": "markdown",
   "metadata": {},
   "source": [
    "The trick to high level to Assembly translation is utilizing the constructs in high level programming languages:\n",
    "- Variables -> labels, memory regions\n",
    "- Data types -> bits\n",
    "- Statements -> directives and instructions\n",
    "Also, one high level language program can have *multiple* Assembly programs. Video on translation **(6.1)**. Another two videos on translation that include *type casting*. High level source code needs to be stored in the .data and .text directives. Pointers work pretty much the same except for high level language compilers incrementing by data type amounts instead of bytes **(6.2)**. *Linkers* help with saving compute resources when compiling code. Instead of recompiling the entire code base every time it assembles each instruciton seperately and then \"patches\" instrucitons with new addresses that have been changed. The linker resolves all external references to external code [like libraries] and produces an executable file [technically same format as an object file but with no unresolved references] (textbook 126). Java is a bit different since it's designed to be able to run on any computer without caring for the architecture. *Java bytecode* is essentially just an error free version of your source code i.e. the compiler looks through the program to see if you made ant mistakes. Although this interpretation was more portable than compiled languages, it was still slower which conceived the *Just in Time Compiler* where the JVM would figure out which functions were \"hot\" while the program was running and would compile them to native assembly instructions to make them perform faster (textbook 131-32). Translations of C functions into Assembly procedures (textbook 131-145) **(6.3)**. Actually a very nice [video](https://youtu.be/VBDoT8o4q00) about how transistors do math. A problem arises with multi-core processing in that each core has its own registers which can become stale if neighboring cores update the same value but only to their personal chache – this is the *core coherence* problem **(6.7)**. Review of the hardware and software components in a computer. Layer 0 is concerned with the actual representation of bits and the usage wires and busses to make fundamental ICs. Layer 1 is about combining fundamental ICs to make more sophisticated ICs. Layer 2 is the ISA so all of your instructions and how they are physically represented on the hardware. Layer 3 is the OS and is conerned with actually using the ISA layer to perform operations. Level 4 are the mnemonics provided for the architecture as well as verbal representations for hardware components such as registers and instruction formats. Layer 5 is where high level programming languages and compilers live **(6.8-6.13)** "
   ]
  }
 ],
 "metadata": {
  "language_info": {
   "name": "python"
  }
 },
 "nbformat": 4,
 "nbformat_minor": 2
}
