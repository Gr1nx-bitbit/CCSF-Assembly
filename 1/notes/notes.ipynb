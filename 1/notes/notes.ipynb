{
 "cells": [
  {
   "cell_type": "markdown",
   "metadata": {},
   "source": [
    "I don't know if it's important but whereas today we have transistors, the first computers used *relays* or a disjuncted piece of metal that had a flap on one end that could be closed shut by feeding electricty through a coil underneath the flap attracting the flap to close and conjunct the pieces of metal so that electricity could flow throw and complete the circuit. \n",
    "\n",
    "A **diode** is an electronic component that permits the one way flow of current. These were like lightbulbs which were the first vaccuum tubes. Positively chardged diodes attracted electrcity while negatively charged or neutral didn't. Having a set of these on a wire aloowed for electrity to flow or not replicating relays but without the moving parts. This is where those first vaccuum computers came from! \n",
    "\n",
    "**CPU** are made of instructions! In binary everything is made up of bits, a possible state of 1 or 0. A **byte** is 8 bits put together which can represent 256 states. 2^8. **Words** are based on the architecture i.e. a 32bit processer has a word which is comprised of 32 bits or 4 bytes while a 64bit processer has a word that has 64 bits or 8 bytes. In essence a word is bytes put together. The bigger the word, the more states that word can represent. Instructions are bits of data that are decoded and executed by the CPU. \n",
    "\n",
    "3 steps in CPU. **FETCH, DECODE, EXECUTE**. These three steps get more compicated but these 3 mechanics are the core. Fetch get data from outside storage such as RAM. Fetch gets data from some adress in RAM. "
   ]
  }
 ],
 "metadata": {
  "language_info": {
   "name": "python"
  }
 },
 "nbformat": 4,
 "nbformat_minor": 2
}
