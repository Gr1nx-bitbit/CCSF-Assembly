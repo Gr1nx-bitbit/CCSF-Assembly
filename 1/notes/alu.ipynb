{
 "cells": [
  {
   "cell_type": "markdown",
   "metadata": {},
   "source": [
    "**1bit half-adder** (HA): made up of XOR and AND logic gates. Two of these together can make a **full-adder** (FA) which can also be made out of logic gates. HAs take in two bits A and B and produce two bits S and C where S is the sum and C is the carry bit. A full adder takes in two bits A and B as well as a Carry-in bit CI to produce two bits, the sum S and the Carry-out bit CO. \n",
    "\n",
    "While ANDs are like && from programming and ORs are || from programming, **multiplexers** are the if from programing. Multiplexers take in two bits A and B and a Selector / Control bit S and produces the A or B bit based on what S is; I'm guessing S is like the expression output of 3 == 4 or something, like this will produce 0 since its false? Idk.\n",
    "\n",
    "A 1bit ALU would be made of an FA, an AND gate, an OR gate, and a multiplexer. The FA does arithmetic while the AND and OR do logic and the multiplexer switches between logic and arithmetic work. If arithmetic is to be performed, the multiplexer takes in the 3 bits and spits out the sum along with the CO bit while only spitting out the value for an AND or OR operation without the CO bit. \n",
    "\n",
    "The **zero-bit** signifies whether two values A and B are equal. If it's 0, then the values are NOT equal, otherwise, they are. The zero-bit is a type of **flag**, which is a bit to represent some value, situation, or circumstance. \n",
    "\n",
    "Remember, that to perform binary subtraction using 2's compliment, we take each bit in a sequence and switch it to its compliment, then after all the bits have been switched, we add 1 to the entire sequence. If we then add a NOT gate to the ALU, we can negatize a sequence of bits using the NOT gate and then add that negative bit sequence to a positive or negative to simulate subtraction. \n",
    "\n",
    "Some ways of detecting overflow in the ALU is by checking whether the sign of your number has changed after you've added same signed inputs i.e. if you add 4 and 3 and get -2, something is wrong; I imagine this happens because that first bit to represent the sign gets carried into and becomes its compliment making the number negative. Yup, that's right. "
   ]
  }
 ],
 "metadata": {
  "language_info": {
   "name": "python"
  }
 },
 "nbformat": 4,
 "nbformat_minor": 2
}
