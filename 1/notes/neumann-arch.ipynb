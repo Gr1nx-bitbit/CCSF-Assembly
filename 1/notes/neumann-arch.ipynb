{
 "cells": [
  {
   "cell_type": "markdown",
   "metadata": {},
   "source": [
    "Von Nuemann (VN) architecture connect the CPU and memory together. He basically said that a program that a computer runs can be seperated from its hardware making it very easily reprogrammable. The VN arch worries about the process in between the input part of a computer (keyboard, microphone, etc) and the output (monitor, speaker, etc). 3 types of memory, the cache, RAM, and Secondary storage (SSD or hard disc drive). To recap, registers are small high speed memory stored within the CPU. The **control unit** controls how data mvoes around the CPU and timing operations as well as other processes. RAM is also known as **Main Memory**. The VN bottleneck (VNB) is an issue in all VN models. The issue is that there is an amount of time where the CPU is idle while the computer is getting data from memory. [Maybe you could use queues or background processes so the data transfer doesn't happen sequentially? I like the memristors approach.]"
   ]
  }
 ],
 "metadata": {
  "language_info": {
   "name": "python"
  }
 },
 "nbformat": 4,
 "nbformat_minor": 2
}
