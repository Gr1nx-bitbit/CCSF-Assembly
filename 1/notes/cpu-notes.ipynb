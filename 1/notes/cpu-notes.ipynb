{
 "cells": [
  {
   "cell_type": "markdown",
   "metadata": {},
   "source": [
    "I don't know if it's important but whereas today we have transistors, the first computers used *relays* or a disjuncted piece of metal that had a flap on one end that could be closed shut by feeding electricty through a coil underneath the flap attracting the flap to close and conjunct the pieces of metal so that electricity could flow throw and complete the circuit. \n",
    "\n",
    "A **diode** is an electronic component that permits the one way flow of current. These were like lightbulbs which were the first vaccuum tubes. Positively chardged diodes attracted electrcity while negatively charged or neutral didn't. Having a set of these on a wire aloowed for electrity to flow or not replicating relays but without the moving parts. This is where those first vaccuum computers came from! \n",
    "\n",
    "**CPU** are made of instructions! In binary everything is made up of bits, a possible state of 1 or 0. A **byte** is 8 bits put together which can represent 256 states. 2^8. **Words** are based on the architecture i.e. a 32bit processer has a word which is comprised of 32 bits or 4 bytes while a 64bit processer has a word that has 64 bits or 8 bytes. In essence a word is bytes put together. The bigger the word, the more states that word can represent. Instructions are bits of data that are decoded and executed by the CPU. \n",
    "\n",
    "3 steps in CPU. **FETCH, DECODE, EXECUTE**. These three steps get more compicated but these 3 mechanics are the core. Fetch get data from outside storage such as RAM. Fetch gets data from some adress in RAM. A **bus** is how data moves back and forth between the CPU and RAM. Each bit of data has its own \"lane\" on the bus or highway like strucutre. An **adress bus** transmit the word adress. Read requests have the address for the data sent through the adress bus and write requests are sent from the CPU to RAM through the data bus. A **register** is a memory word in the CPU meant for tmp data. Accessing data from RAM is a typical bottleneck for CPUs. \n",
    "\n",
    "Decode Phase: one word of memory forms a complete instruction in classic RISC (Reduced Instruction Set Computer) architecture. When decoded instructions are broken down into bitfields, an OPCODE, and an OPERAND. OPCODEs represent specific functions in a CPU. Move data in registers, write, read, add, branching. OPERANDs are data attachted to the OPCODE. Ex: ADD 5. \n",
    "\n",
    "Execution phase: A lot of stuff is done by the ALU (arithmetic logic unit). Execution uses the OPCODEs and OPERANDs to know what data to compute or where to send that data. \n",
    "\n",
    "These 3 phases are looped through continuously as the program loaded into memory is executed. A **clock** is meant to synchronize CPU internals with CPU externals. Clocks tell the CPU when to start the next phase of Fetch, decode, and execute. \n",
    "\n",
    "––––––––\n",
    "\n",
    "Integrated circuits: At first, computers were built out of individual, discrete parts that all had to be soldered and wired together. As computers got bigger and more complex integrated units of electronics were born. Integrated circuits (ICs) were a lot of discrete components packaged into a single one i.e. abstraction. While this reduced complexity, ICs still had to be wired together. To solve that dilema, engineers made printed circuit boards (PCBs) which is like a template for where to put all your ICs. Instead of wiring people used Photolithography to etch wires in PCBs using light. Take a silicon wafer, some oxides, photosenstive and phtoresistant materials, and you can make yourself an IC out of transistors! \n",
    "\n",
    "Caches are one solution to the bottleneck faced with higher clock speeds. It takes time for electrons to move accross the data and address bus from RAM to CPU and vice versa and can only be done sequentially. Caches allow you to spend a bit more time upfront to load all your desired data onto the CPU directly instead of having to request and configure data all the time leading to the CPU being idle. However this is not just for READING data but also for WRITING data. Instead of spending time writing to RAM you can write directly onto the cache. This creates a problem however where the RAM state and cache state are mismatched (kind of like Kubernetes). Basically a thing called a \"dirty bit\" is checked before reloading the cache or sending write data to RAM to see if anything is mismatched. \n",
    "\n",
    "Instruction piplelining is a way of paralelizing processes. Instead of waiting sequentially to start one thing after another is finished, after that one job is done, it immediatly goes on to start its next request instead of waiting for its team members i.e. a washer washes then pipes its contents to the dryer and continues washing while the dryer is drying. However your CPU might have to stall pipelining if a future process is dependent on a current process. "
   ]
  },
  {
   "cell_type": "markdown",
   "metadata": {},
   "source": [
    "**Datapath** is the idea of data being transferred from one part of a computer to another i.e. from input to process and process to output. Any of these datapths have latency. To recap, registers are used to store tmp values, such as the values you want to manipulate with the ALU. You have two registers meant for getting data, 1 is the **instruction address register** which starts at 0 and incremets holding the address in RAM you want to access and then the instruction register which holds the data in the memory slot. The data in the RAM slot is made up of those previous OPCODEs and OPERANDS with the first 4 bits being the OPCODE or the instruction we want to do. \n",
    "\n",
    "The **Control Unit** (CU) is what orchestrates the different phases. The CU is responsible for getting data from the right registers and configuring the ALU among other things. The CU takes care of overhead such as turning off wires and temporarily storing data so that infinte loops or ripplebacks are made. The clock mentioned previously pulses at a specific rate and this is what has the CU moving on to do the next thing such as incrememnt a counter. **Clock speed** is how fast a CPU can execute on phase of fetch, decode, and execute. "
   ]
  }
 ],
 "metadata": {
  "language_info": {
   "name": "python"
  }
 },
 "nbformat": 4,
 "nbformat_minor": 2
}
