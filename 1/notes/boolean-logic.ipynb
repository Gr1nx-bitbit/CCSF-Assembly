{
 "cells": [
  {
   "cell_type": "markdown",
   "metadata": {},
   "source": [
    "Remeber propositional logic in AI? Well this is where it came from dude. BOOLEAN ALGEBRA. There are three operations which we have to worry about when it comes to arithmetizing booleans (True and False). These operations are AND (•), OR (+), and NOT (~) why not ¬ ? That's what they use with the propositional logic stuff in AI. \n",
    "\n",
    "**AND**: T • T = T because both terms are True. T • F = F because one term is false, therefore the whole expression is not True. F • T = F && F • F = F. \n",
    "\n",
    "**OR**: T + T = F because both terms are True. T + F = T && F + T = T because one of the terms is true therefore one or the other is true. F + F = F since there is not truth. \n",
    "\n",
    "**NOT**: ~T = F && ~F = T. Pretty straightforward.\n",
    "\n",
    "You can make truth tables for each operation (look at module 1.44 for an example). IT'S MODEL CHECKING DUDE. \n",
    "\n",
    "From these basic operators, we can make new ones such as XOR (exclusive OR which is denoted as a circle holowed out with a plus sign), NAND, and NOR. \n",
    "\n",
    "**XOR**: F * T = T && T * F = T because 1 of the terms is true exclusive of the other. F * F = F && T * T = F because either one or the other is true and not both, otherwise, it's false. "
   ]
  }
 ],
 "metadata": {
  "language_info": {
   "name": "python"
  }
 },
 "nbformat": 4,
 "nbformat_minor": 2
}
