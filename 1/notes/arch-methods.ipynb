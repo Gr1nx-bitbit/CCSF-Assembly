{
 "cells": [
  {
   "cell_type": "markdown",
   "metadata": {},
   "source": [
    "RISC (reduced instruction set computer) architecture is the more low level assembly language. CISC (complex instruction set computer) has more high levle commands that allow a programmer to perform multiplaction on a computer without explicitly stating what registers to load data into and what register to store the result to. In short, CISC is more high-level than RISC and RISC requires more low level and explicit instructions. RISC requires the hardware to do less work while increasing demand on memory to store the sofware. This approach however allows for pipelining since the instructions are reduced. \n",
    "\n",
    "MIPS is the first RISC architecture. It's a design for a 32bit CPU. When writing the code, $ signs refer to registers!\n",
    "\n",
    "Each CPU family or type has its own assembly language and its own machine code. Does that mean that binaries will run differently depending on the CPU used? Seems like it since you have to use a different compiler for linux than MACOS, but is that just file extensions or is it an actual shift in pattern for how 0s and 1s are represented in computers? --> **YES. Because different assembly language mnemonics are represented using different sets of binary patterns, binaries will run differently depending on the architecture.** \n",
    "\n",
    "Assemblers will take assembly language source code and compile it into a binary format. Of course, just like with any other programming language, the source code might include code from other files which have to be linked to your current one. Object files are the intermediary state between source code and executables since they bookmark where your code ends and another code is referenced. A *linker* connects all the references in your object files together to make one cohesive binary. "
   ]
  }
 ],
 "metadata": {
  "language_info": {
   "name": "python"
  }
 },
 "nbformat": 4,
 "nbformat_minor": 2
}
