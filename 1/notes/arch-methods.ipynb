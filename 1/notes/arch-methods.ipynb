{
 "cells": [
  {
   "cell_type": "markdown",
   "metadata": {},
   "source": [
    "RISC (reduced instruction set computer) architecture is the more low level assembly language. CISC (complex instruction set computer) has more high levle commands that allow a programmer to perform multiplaction on a computer without explicitly stating what registers to load data into and what register to store the result to. In short, CISC is more high-level than RISC and RISC requires more low level and explicit instructions. RISC requires the hardware to do less work while increasing demand on memory to store the sofware. This approach however allows for pipelining since the instructions are reduced. \n",
    "\n",
    "MIPS is the first RISC architecture. It's a design for a 32bit CPU. When writing the code, $ signs refer to registers!"
   ]
  }
 ],
 "metadata": {
  "language_info": {
   "name": "python"
  }
 },
 "nbformat": 4,
 "nbformat_minor": 2
}
