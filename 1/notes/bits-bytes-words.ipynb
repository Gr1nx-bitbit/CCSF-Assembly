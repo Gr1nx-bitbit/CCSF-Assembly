{
 "cells": [
  {
   "cell_type": "markdown",
   "metadata": {},
   "source": [
    "64bit CPUs have potentially better performance and better access to memory. While a 32bit computer can only address 4GB of RAM without some tricks, a 64bit computer can address 16 billion GB of RAM. Does this have to do with that *address intrusction register*? Doesn't that register increment to address numbers? That's probably why 64bit CPUs can **address** more memory. When it comes to clock cycles, those pulses your CPU puts out to signal a new phase of fetch, decode, execute, a 64bit CPU can take in 64 bits of data while a 32bit CPU, you guessed it, only 32. \n",
    "\n",
    "Bits can apply to more than just the CPU such as how much data busses can transfer per clock cycle, registers, word sizes, addresses and more. \n",
    "\n",
    "The MIPS CPU is a 32bit CPU therefore the busses can send 32 bits of data per cycle, the registers can hold 32 bits of information, the addresses in memory are represented as numbers in 32 bit format. To recap, a word is the max number of bits your processor handles (I think?); either way, a word is 32 bits or 8 bytes in the MIPS CPU. \n",
    "\n",
    "Some CPUs that are 64bit are just extensions / add-ons to 32bit processors which is why they can be backwards compatbile with OSs or legacy programs running on 32 bits. \n",
    "\n",
    "<h2>Binary to Deciamal to Hexademical Conversions</h2>\n",
    "\n",
    "**Binary to Decimal**: To perform math with bits, as in base 2 math or bit math, you have to take the the position of the bit, as in, is it in the 3rd place left of 0 and take 2 to the power of that place the bit is in *minus* one and either multiply it by 0 or 1 depending on if it's a 0 or 1 e.g. 6 can be represented in binary as 110 (base 2) and we can see its 6 in base 10 by following the instruction earlier; [2^(3-1) * 1] + [2^(2-1) * 1] + [2^(1-1) * 0] = 6.\n",
    "\n",
    "Unless explicitly made so, bits will be unsigned numbers. If we want to have signed numbers, we'll have to sacrifice a bit to be the piece of information represents positive or negative. This bit is usually the one of highest power i.e. the one farthest to the left; 00000001 = +1 but 10000001 = -1.\n",
    "\n",
    "**Decimal to Binary**: To go from decimal down to binary (base 10 to base 2) we simply divide by 2 over and over keeping track of the remainder and quotient. The remainder (either 0 or 1) is appended to a binary sequence and we continue to divide the decimal number by 2 until we get a quotient of 0 e.g. 57 / 2 --> q = 28, r = <font color=red>**1**</font>; 28 / 2 --> q = 14, r = <font color=green>**0**</font>; 14 / 2 --> q = 7, r = <font color=blue>**0**</font>; 7 / 2 --> q = 3, r = <font color=purple>**1**</font>; 3 / 2 --> q = 1, r = <font color=aqua>**1**</font>; 1 / 2 --> q = 0, r = <font color=yellow>**1**</font>; so the binary digit for 57 would be <font color=red>**1**</font><font color=green>**0**</font><font color=blue>**0**</font><font color=purple>**1**</font><font color=aqua>**1**</font><font color=yellow>**1**</font>.\n",
    "\n",
    "**Binary to Hex**: One hex digit can be represented with 4 bits i.e. since hex goes up to 16 with *F*, to represent that we need 4 bits like this 1111 which we can confirm is 16 by doing some binary math 2^3 + 2^2 + 2^1 + 2^0 = 15 and since we start from 0, that is indeed F. So, as long as you know what the bit representation of hex digits, you can easily convert hex to binary i.e. 3B29, 3 is 0011, B is 1011, 2 is 0010, 9 is 1001; just append to the ends of each like so: 0011 + 1011 + 0010 + 1001 --> **0011101100101001** and tah-dah! **If you don't see a group of 4 bits, just pad the left with 0's until you have four bits!**\n",
    "\n",
    "<h3>ASCII</h3>\n",
    "\n",
    "ASCII uses 7 bits for encoding characters. Idk if its important but there you go.\n",
    "\n",
    "**Floating point numbers**: Floating point numbers have a bit size of 1 word just like how we mentioned before. They are made up of some parts. Like with integers, the leftmost bit can be used to represent sign. (1 bit)\n",
    "\n",
    "The **Fraction**: this is a collection of bits in the word of a floating point used to represent real numbers. (23 bits)\n",
    "\n",
    "The **Exponent**: this is a collection of bits that tells you where in your floating point number the **.** actually is. The leftmost bit in this collection can also represent sign signifying whether the fraction is over or under 1. (8 bits)\n",
    "\n",
    "Floating point numbers are usually represented with the formula (-1)^S * (F) * 2^E where S is the sign of the whole number, F is the value in the fraction field and E is the value in the exponent field, however it's a bit more sophisticated in MIPS. The reason for this is that the designated bit allocations aren't enough to represent some numerical values. This is where overflow, underflow, and bias come into play. "
   ]
  }
 ],
 "metadata": {
  "language_info": {
   "name": "python"
  }
 },
 "nbformat": 4,
 "nbformat_minor": 2
}
