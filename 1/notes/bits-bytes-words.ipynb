{
 "cells": [
  {
   "cell_type": "markdown",
   "metadata": {},
   "source": [
    "64bit CPUs have potentially better performance and better access to memory. While a 32bit computer can only address 4GB of RAM without some tricks, a 64bit computer can address 16 billion GB of RAM. Does this have to do with that *address intrusction register*? Doesn't that register increment to address numbers? That's probably why 64bit CPUs can **address** more memory. When it comes to clock cycles, those pulses your CPU puts out to signal a new phase of fetch, decode, execute, a 64bit CPU can take in 64 bits of data while a 32bit CPU, you guessed it, only 32. \n",
    "\n",
    "Bits can apply to more than just the CPU such as how much data busses can transfer per clock cycle, registers, word sizes, addresses and more. \n",
    "\n",
    "The MIPS CPU is a 32bit CPU therefore the busses can send 32 bits of data per cycle, the registers can hold 32 bits of information, the addresses in memory are represented as numbers in 32 bit format. To recap, a word is the max number of bits your processor handles (I think?); either way, a word is 32 bits or 8 bytes in the MIPS CPU. \n",
    "\n",
    "Some CPUs that are 64bit are just extensions / add-ons to 32bit processors which is why they can be backwards compatbile with OSs or legacy programs running on 32 bits. "
   ]
  }
 ],
 "metadata": {
  "language_info": {
   "name": "python"
  }
 },
 "nbformat": 4,
 "nbformat_minor": 2
}
