{
 "cells": [
  {
   "cell_type": "markdown",
   "metadata": {},
   "source": [
    "Real quick recap, assembly language is a 1-1 translation of binary and high level code. The instructions you send to the CPU all have an OPCODE or a set of bits specifiying what the instruciton is, such as ADD. These instructions are followed by arguments or the things you supply after the instruction and the instructions fall into 4 general categories; arithmetic, logical, data transfer, and (un)conditional instructions. It seems like the instructions which are immediate (like addi) take one of their arguments from a register inside the CPU; makes sense since it is almost immediate or in the immediate vicinity. There is also no subi since addi can add a register and any number be it positive or negative. Remember, the default bias values is **127**. \n",
    "\n",
    "**Bitwise operations** are fast and simple instructions that operate on binary number's individual bits. Remember that since most of the bits in our numbers won't be used, sign extension (replacing unused bits with sign bit) will be used. So, yes, immediate numbers or arguments are not loaded from main memory but are used immediately in the program (a constant value or constant expression; one that you define in the instruction). **Directives** are kind of like tags or designations that tell the CPU which area of the program is used for storing data values like text, and which section is meant for storing the instructios in the program i.e. the assembly. You can think of it like the main function of a C(++), Java, or Go program. Directives are defined with a dot (.) prefix. Subsequent items are bound to that directive e.g. .asciiz \"*str*\" will store an array of 8 bit ASCII characters that are null terminated strings; look at the ISA for more info. **Labels** are text we use in an assembly language program to refer to a memory address with i.e. labels are text aliases for memory addresses; instead of typing in the address or register, you just use the label. Labels are used inside of directives and are proceeded by a colon (*label*<font color=red>:</font>). Labels' purpose is to mark lines of assembly, mark data/values stored in main memory, and so that you don't have to keep typing unsigned integers. "
   ]
  },
  {
   "cell_type": "code",
   "execution_count": null,
   "metadata": {
    "vscode": {
     "languageId": "plaintext"
    }
   },
   "outputs": [],
   "source": [
    ".data\n",
    "age: .word 30\n",
    "gpa: .half 0x10\n",
    "hello: .asciiz \"Hello, World!\\n\""
   ]
  },
  {
   "cell_type": "markdown",
   "metadata": {},
   "source": [
    "When it comes to storing data, you can use either main memory or registers. Registers, as we know, are pieces of hardware used to store values/data *inside* the CPU. In MIPS, all registers are preceeded with a $ and some are designated for special tasks such as the $v0 which is meant for holding the OPCODEs for syscalls while $a0 holds the arguments to those syscalls. Values for instructions must come from within the registers unless the instruction takes in a different arguments like a constant. While instructions like *add* and *sub* always use a register, immediate operands like *addi* don't use registers for getting values but simply storing results. Regsiters have both numbers (in the case of MIPS 0-31) *and* names such as the one I mentioned earlier with $v0.\n",
    "<h2>Data Transfer Instructions</h2>\n",
    "\n",
    "We have 2 types of instruction; instructions that load data from memory into a register and then instructions that store data from a register into memory. You can work with 4 sizes of data in MIPS, bytes (good for characters), half (16 bits or half a word), word, and doubles. These instructions either start with **l** (for load) or **s** (for store). The character proceeding that letter will specify the amount of data you want to load or store i.e. lw means you want to load a word of data from memory into a register. The arguemnt that follows in the register and is the register you either copy to or from, and the argument that follows tells you where in memory the data is or should be placed. "
   ]
  },
  {
   "cell_type": "code",
   "execution_count": null,
   "metadata": {
    "vscode": {
     "languageId": "plaintext"
    }
   },
   "outputs": [],
   "source": [
    "lw $t0, 16($sp)"
   ]
  },
  {
   "cell_type": "markdown",
   "metadata": {},
   "source": [
    "The 16() serves as an offset telling the program that it should load a word of memory 16 bytes up from the stack pointer ($sp) into the register $t0. Pointer arithmetic is going to be (probably) prevalent in this course which of course gives us the power to screw over our program and kill the process it's running in! Quick side note: you MUST end your program with a syscall and $v0, 10; otherwise the program will continue to run! Sample program here"
   ]
  },
  {
   "cell_type": "code",
   "execution_count": null,
   "metadata": {
    "vscode": {
     "languageId": "plaintext"
    }
   },
   "outputs": [],
   "source": [
    "main:\n",
    "    li $t1, 1\n",
    "    add $t0, $t1, 2\n",
    "    li $v0, 10\n",
    "    syscall"
   ]
  },
  {
   "cell_type": "markdown",
   "metadata": {},
   "source": []
  }
 ],
 "metadata": {
  "language_info": {
   "name": "python"
  }
 },
 "nbformat": 4,
 "nbformat_minor": 2
}
