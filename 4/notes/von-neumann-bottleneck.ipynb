{
 "cells": [
  {
   "cell_type": "markdown",
   "metadata": {},
   "source": [
    "**Memory heirarchy** is organization of memory to reduce latency of data transfer between the main memory of a computer and a CPU. At the top of the heirarchy we find registers since they're inside the CPU and therefore need the least amount of time to access, then we have cache memory which is usually implemented using Static RAM (SRAM); Main Memory is next down on the heirarchy and is usally implemented using Dynamic RAM (DRAM – probably because this stuff gets written to a lot)f; Solid State Drives or Secondary Storage follow and are also the bottom of the heirarchy. The heirarchy acts as a model for us to gage the capacity, access time, performance, and cost per bit for each type of memory. Capcity is straightforward and is just how much volume of memory the heirarchy level can store and increases as you go down the heirarchy. Access time is the time it takes for read/write requests to make it to that memory and decreases as you go down the heirarchy. Performance is how optimal your \"split\" is e.g. having a lot of Secondary Storage might give you a lot of capcity by slow access time degrading your computer's memory performance – it's kinda like the balance you have to strike in order to get the best of all worlds; the cost of a bit increases as you go up the heirarchy **(4.1)**."
   ]
  }
 ],
 "metadata": {
  "language_info": {
   "name": "python"
  }
 },
 "nbformat": 4,
 "nbformat_minor": 2
}
