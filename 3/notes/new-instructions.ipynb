{
 "cells": [
  {
   "cell_type": "markdown",
   "metadata": {},
   "source": [
    "<h2>J format instructions</h2>\n",
    "\n",
    "Just like with high level programming, we might have a need to skip over some instructions based on conditional values, or in other words, we might need to branch the program and execute only one of the conditionals. In Assembly, J format is when you have an instruction that jumps to a different part of the program whether it be through branches or jumping. This works – like how we said in the last discussion post – the instruction loads a new value into the PC which will in turn load the instruction form that place in memory that the PC points to. The instruction itself has a 6 bit OPCODE and then a 26 bit address which is appended two 0's to make it byte addressable (wouldn't that make it nybble addressable?) and then sign extended to 32 bits. While all J format instructions are branching instructions, not all branching instructions are J format. Branching instructions fall into either a *conditional* (where based on a true or false value, the instruction will cause a jump in the program) or an *unconditional* instruction (where the code jumps regardless, like an else statement). The jump instruction loads a new value into the PC which is either a numerical offset or a label (text alias for an address) which is typical of the **j** (jump) instruction. The **jal** (jump and link) instruction also supplies an additional address where the program should come back to after completeing the stuff in the first address i.e. jump here and execute, then come back to the main body. Comparison branch instructions like blt, bgt use some propsitional logic to figure out if operands are less than or greater than each other which they might do like so: a <= b --> NOT(b < a). Those pseudoinstructions get broken down into native instructions: bgt --> slt ^at, regb, rega (check if comparison is true or false and store in ^at), bne ^at, ^zero, label. In essence, there is NO direct translation from high level condtionals to assembly language instructions, however there are COMBOS of instrucitons that can be used to form a high level conditional. **Are the branching instructions I type because you write a new address to the program counter register?** Conditional branch instructions have a **relative address counter**. The label the branch uses to write the adress of the next instruction has 15 bits for the actual address and a sign bit allowing the PC to be written to a maximum radius of around 33,000 words away (branch addresses are measured in words). In simpler terms, **conditional branch instructions use I format insturctions and are limited to 15 bit signed branch distances** (that means, if your function's signature address is too large to be fit into that number, then you're scerwed). If you can't do this, then you'll have to use a jump statement instead which uses a 26 (extended to 28 bits to avoid alignement fault) bit address allowing you 256 MB of range; also it uses absolute range and not PC relative range.\n",
    "\n",
    "For conditional logic in assembly, we can't follow the if x do y paradigm. Instead we have to store the comparison logic somewhere, then use it in a branch statement to JUMP to some other place in the instructions memory. So you'd literally write the instruction one after another and just say where in memory or the instruction set to jump to – it looks ugly! We can use SET instructions to show the relationship between two values (greater or less) and then use that result in a branch instruction. "
   ]
  }
 ],
 "metadata": {
  "language_info": {
   "name": "python"
  }
 },
 "nbformat": 4,
 "nbformat_minor": 2
}
