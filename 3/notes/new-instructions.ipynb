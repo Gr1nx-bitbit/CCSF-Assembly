{
 "cells": [
  {
   "cell_type": "markdown",
   "metadata": {},
   "source": [
    "<h2>J format instructions</h2>\n",
    "\n",
    "Just like with high level programming, we might have a need to skip over some instructions based on conditional values, or in other words, we might need to branch the program and execute only one of the conditionals. In Assembly, J format is when you have an instruction that jumps to a different part of the program whether it be through branches or jumping. This works – like how we said in the last discussion post – the instruction loads a new value into the PC which will in turn load the instruction form that place in memory that the PC points to. The instruction itself has a 6 bit OPCODE and then a 26 bit address which is appended two 0's to make it byte addressable (wouldn't that make it nybble addressable?) and then sign extended to 32 bits. While all J format instructions are branching instructions, not all branching instructions are J format. Branching instructions fall into either a *conditional* (where based on a true or false value, the instruction will cause a jump in the program) or an *unconditional* instruction (where the code jumps regardless, like an else statement). The jump instruction loads a new value into the PC which is either a numerical offset or a label (text alias for an address) which is typical of the **j** (jump) instruction. The **jal** (jump and link) instruction also supplies an additional address where the program should come back to after completeing the stuff in the first address i.e. jump here and execute, then come back to the main body. Comparison branch instructions like blt, bgt use some propsitional logic to figure out if operands are less than or greater than each other which they might do like so: a <= b --> NOT(b < a). Those pseudoinstructions get broken down into native instructions: bgt --> slt ^at, regb, rega (check if comparison is true or false and store in ^at), bne ^at, ^zero, label. In essence, there is NO direct translation from high level condtionals to assembly language instructions, however there are COMBOS of instrucitons that can be used to form a high level conditional. **Are the branching instructions I type because you write a new address to the program counter register?** Conditional branch instructions have a **relative address counter**. The label the branch uses to write the adress of the next instruction has 15 bits for the actual address and a sign bit allowing the PC to be written to a maximum radius of around 33,000 words away (branch addresses are measured in words). In simpler terms, **conditional branch instructions use I format insturctions and are limited to 15 bit signed branch distances** (that means, if your function's signature address is too large to be fit into that number, then you're scerwed). If you can't do this, then you'll have to use a jump statement instead which uses a 26 (extended to 28 bits to avoid alignement fault) bit address allowing you 256 MB of range; also it uses absolute range and not PC relative range.\n",
    "\n",
    "For conditional logic in assembly, we can't follow the if x do y paradigm. Instead we have to store the comparison logic somewhere, then use it in a branch statement to JUMP to some other place in the instructions memory. So you'd literally write the instruction one after another and just say where in memory or the instruction set to jump to – it looks ugly! We can use SET instructions to show the relationship between two values (greater or less) and then use that result in a branch instruction. \n",
    "\n",
    "<h2>Bit Manipulation and Shift Instructions</h2>\n",
    "\n",
    "*Logical operations* are operations that you perform inside a word, on sets of bits or individual bits such as examining characters (8 bits) in a string instead of the entire word which houses those 8 bits. *Shift* operations do what they say they do. Inside a word, you can shift the bits left or right – hence, changing their value by virtue of their magnitude – and fill in the old spaces of the bits with 0's. A nice thing to know is that when you shift bits left i bits, the number increases by 2^i just as shifting a decimal number into left columns results in multiplying by 10^i. Bits that overflow are discarded and empty places of orginal bits are filled in with 0's. Arithmetic shifts are the same for left shifts but right shifts have the new msb be the same value as the old one while the lsb is discarded. **Remeber, *arithmetic* left shift operations take the current number and *multiply* by 2^n whereas right shift operations take the current number and *divide* by 2^n where n is the number of bits you've shifted.** The reason for having arithmetic and logical shifts is that arithmetic shits **PRESERVE** the sign bit! \n",
    "\n",
    "The logical operations can be used for accessing different elements of an array. By shifting over n bytes, you can move a word at a time through memory (2 bytes over is the same as multiplying the original number by 2^2, hence if your shift amount of 1, two bytes over, you multiply 1 by 2^2 or 4 and now you have 4 bytes or 1 word). Remeber that memory is **byte** *addressable* so we move in bytes by default. \n",
    "\n",
    "<h2>Pointer Arrays + Switch Statements and Jump Tables</h2>\n",
    "\n",
    "We can make arrays of pointers to store multiple memory addresses. This technique is often used in Assembly to make Jump Tables. Jump Tables are just like switch cases in high level languages; while we could translate switch cases into conditionals and those conditionals into Assembly, it would be very messy. Essentially, you make all your different instructions with labels, then – depending on your offset – load the label's instructions and execute them. \n",
    "\n",
    "<h2>FPU</h2>\n",
    "<h3>How to multiply and divide numbers not the power of 2</h3>\n",
    "\n",
    "In MIPS, there are special registers for multiplication and division called HI and LO. This is because when you multiply two 32 bit integers, the result is a 64 bit integer, the higher half of which is stored in HI and the lower half of which is stored in LO. For division, the LO register holds the quotient of the operation and the HI register holds the remainder. The FPU has its own instructions that you can use to add, subtract, multiply, and divide floating point numbers. They follow the format (add).s or (sub).d where s is a single, and d is a double. You can also compare floating point numbers with c.x.s or c.x.d where x is the type of comparison (less than [lt], equal [eq]) and s and d are the same as before. The comparisons set a bit to true or false so you have the same stuff as the SET (if == --> 0; else --> 0) instructions as before. Doubles use two registers because each register is 32 bits wide with the convention that even number registers (^f2, ^f6, etc) are paired with odd numbered registers AND are used as the name / address to refer to for the double. \n",
    "\n",
    "<h2>Loops</h2>\n",
    "\n",
    "Nothing too complicated here. You have a conditional you can check and then jump back to the initial code line usually represented by a label. You can also use beq or the like to break out of your loops or jump to an exit label which can take you to another label in the assembly code. For loops can also be implemented in assembly, but its eaiser to convert a for loop to a while and then a while to assembly since while loops can be more easily and closely represented. "
   ]
  }
 ],
 "metadata": {
  "language_info": {
   "name": "python"
  }
 },
 "nbformat": 4,
 "nbformat_minor": 2
}
